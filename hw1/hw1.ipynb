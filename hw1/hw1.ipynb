{
 "cells": [
  {
   "cell_type": "code",
   "execution_count": 1,
   "id": "imposed-poster",
   "metadata": {},
   "outputs": [],
   "source": [
    "import numpy as np\n",
    "import pandas as pd\n",
    "import scipy.stats"
   ]
  },
  {
   "cell_type": "code",
   "execution_count": 2,
   "id": "covered-priest",
   "metadata": {},
   "outputs": [],
   "source": [
    "df = pd.read_csv('soccer17.csv')"
   ]
  },
  {
   "cell_type": "code",
   "execution_count": 3,
   "id": "turned-gathering",
   "metadata": {},
   "outputs": [
    {
     "data": {
      "text/plain": [
       "Index(['Div', 'Date', 'Y', 'HomeTeam', 'AwayTeam', 'FTHG', 'FTAG', 'HTHG',\n",
       "       'HTAG', 'pH', 'pD', 'pA'],\n",
       "      dtype='object')"
      ]
     },
     "execution_count": 3,
     "metadata": {},
     "output_type": "execute_result"
    }
   ],
   "source": [
    "df.columns"
   ]
  },
  {
   "cell_type": "markdown",
   "id": "reduced-bahamas",
   "metadata": {},
   "source": [
    "# Problem 1\n",
    "\n",
    "## 1a"
   ]
  },
  {
   "cell_type": "code",
   "execution_count": 4,
   "id": "worthy-davis",
   "metadata": {},
   "outputs": [
    {
     "data": {
      "text/html": [
       "<div>\n",
       "<style scoped>\n",
       "    .dataframe tbody tr th:only-of-type {\n",
       "        vertical-align: middle;\n",
       "    }\n",
       "\n",
       "    .dataframe tbody tr th {\n",
       "        vertical-align: top;\n",
       "    }\n",
       "\n",
       "    .dataframe thead th {\n",
       "        text-align: right;\n",
       "    }\n",
       "</style>\n",
       "<table border=\"1\" class=\"dataframe\">\n",
       "  <thead>\n",
       "    <tr style=\"text-align: right;\">\n",
       "      <th></th>\n",
       "      <th>Average Goal Diff</th>\n",
       "      <th>Games</th>\n",
       "      <th>Losses</th>\n",
       "      <th>Ties</th>\n",
       "      <th>Wins</th>\n",
       "    </tr>\n",
       "    <tr>\n",
       "      <th>team</th>\n",
       "      <th></th>\n",
       "      <th></th>\n",
       "      <th></th>\n",
       "      <th></th>\n",
       "      <th></th>\n",
       "    </tr>\n",
       "  </thead>\n",
       "  <tbody>\n",
       "    <tr>\n",
       "      <th>Man City</th>\n",
       "      <td>2.078947</td>\n",
       "      <td>38</td>\n",
       "      <td>2</td>\n",
       "      <td>4</td>\n",
       "      <td>32</td>\n",
       "    </tr>\n",
       "    <tr>\n",
       "      <th>Liverpool</th>\n",
       "      <td>1.210526</td>\n",
       "      <td>38</td>\n",
       "      <td>5</td>\n",
       "      <td>12</td>\n",
       "      <td>21</td>\n",
       "    </tr>\n",
       "    <tr>\n",
       "      <th>Man United</th>\n",
       "      <td>1.052632</td>\n",
       "      <td>38</td>\n",
       "      <td>7</td>\n",
       "      <td>6</td>\n",
       "      <td>25</td>\n",
       "    </tr>\n",
       "    <tr>\n",
       "      <th>Tottenham</th>\n",
       "      <td>1.000000</td>\n",
       "      <td>38</td>\n",
       "      <td>7</td>\n",
       "      <td>8</td>\n",
       "      <td>23</td>\n",
       "    </tr>\n",
       "    <tr>\n",
       "      <th>Chelsea</th>\n",
       "      <td>0.631579</td>\n",
       "      <td>38</td>\n",
       "      <td>10</td>\n",
       "      <td>7</td>\n",
       "      <td>21</td>\n",
       "    </tr>\n",
       "    <tr>\n",
       "      <th>Arsenal</th>\n",
       "      <td>0.605263</td>\n",
       "      <td>38</td>\n",
       "      <td>13</td>\n",
       "      <td>6</td>\n",
       "      <td>19</td>\n",
       "    </tr>\n",
       "    <tr>\n",
       "      <th>Burnley</th>\n",
       "      <td>-0.078947</td>\n",
       "      <td>38</td>\n",
       "      <td>12</td>\n",
       "      <td>12</td>\n",
       "      <td>14</td>\n",
       "    </tr>\n",
       "    <tr>\n",
       "      <th>Leicester</th>\n",
       "      <td>-0.105263</td>\n",
       "      <td>38</td>\n",
       "      <td>15</td>\n",
       "      <td>11</td>\n",
       "      <td>12</td>\n",
       "    </tr>\n",
       "    <tr>\n",
       "      <th>Newcastle</th>\n",
       "      <td>-0.210526</td>\n",
       "      <td>38</td>\n",
       "      <td>18</td>\n",
       "      <td>8</td>\n",
       "      <td>12</td>\n",
       "    </tr>\n",
       "    <tr>\n",
       "      <th>Crystal Palace</th>\n",
       "      <td>-0.263158</td>\n",
       "      <td>38</td>\n",
       "      <td>16</td>\n",
       "      <td>11</td>\n",
       "      <td>11</td>\n",
       "    </tr>\n",
       "    <tr>\n",
       "      <th>Everton</th>\n",
       "      <td>-0.368421</td>\n",
       "      <td>38</td>\n",
       "      <td>15</td>\n",
       "      <td>10</td>\n",
       "      <td>13</td>\n",
       "    </tr>\n",
       "    <tr>\n",
       "      <th>Bournemouth</th>\n",
       "      <td>-0.421053</td>\n",
       "      <td>38</td>\n",
       "      <td>16</td>\n",
       "      <td>11</td>\n",
       "      <td>11</td>\n",
       "    </tr>\n",
       "    <tr>\n",
       "      <th>Southampton</th>\n",
       "      <td>-0.500000</td>\n",
       "      <td>38</td>\n",
       "      <td>16</td>\n",
       "      <td>15</td>\n",
       "      <td>7</td>\n",
       "    </tr>\n",
       "    <tr>\n",
       "      <th>Brighton</th>\n",
       "      <td>-0.526316</td>\n",
       "      <td>38</td>\n",
       "      <td>16</td>\n",
       "      <td>13</td>\n",
       "      <td>9</td>\n",
       "    </tr>\n",
       "    <tr>\n",
       "      <th>Watford</th>\n",
       "      <td>-0.526316</td>\n",
       "      <td>38</td>\n",
       "      <td>19</td>\n",
       "      <td>8</td>\n",
       "      <td>11</td>\n",
       "    </tr>\n",
       "    <tr>\n",
       "      <th>West Ham</th>\n",
       "      <td>-0.526316</td>\n",
       "      <td>38</td>\n",
       "      <td>16</td>\n",
       "      <td>12</td>\n",
       "      <td>10</td>\n",
       "    </tr>\n",
       "    <tr>\n",
       "      <th>West Brom</th>\n",
       "      <td>-0.657895</td>\n",
       "      <td>38</td>\n",
       "      <td>19</td>\n",
       "      <td>13</td>\n",
       "      <td>6</td>\n",
       "    </tr>\n",
       "    <tr>\n",
       "      <th>Swansea</th>\n",
       "      <td>-0.736842</td>\n",
       "      <td>38</td>\n",
       "      <td>21</td>\n",
       "      <td>9</td>\n",
       "      <td>8</td>\n",
       "    </tr>\n",
       "    <tr>\n",
       "      <th>Huddersfield</th>\n",
       "      <td>-0.789474</td>\n",
       "      <td>38</td>\n",
       "      <td>19</td>\n",
       "      <td>10</td>\n",
       "      <td>9</td>\n",
       "    </tr>\n",
       "    <tr>\n",
       "      <th>Stoke</th>\n",
       "      <td>-0.868421</td>\n",
       "      <td>38</td>\n",
       "      <td>19</td>\n",
       "      <td>12</td>\n",
       "      <td>7</td>\n",
       "    </tr>\n",
       "  </tbody>\n",
       "</table>\n",
       "</div>"
      ],
      "text/plain": [
       "                Average Goal Diff  Games  Losses  Ties  Wins\n",
       "team                                                        \n",
       "Man City                 2.078947     38       2     4    32\n",
       "Liverpool                1.210526     38       5    12    21\n",
       "Man United               1.052632     38       7     6    25\n",
       "Tottenham                1.000000     38       7     8    23\n",
       "Chelsea                  0.631579     38      10     7    21\n",
       "Arsenal                  0.605263     38      13     6    19\n",
       "Burnley                 -0.078947     38      12    12    14\n",
       "Leicester               -0.105263     38      15    11    12\n",
       "Newcastle               -0.210526     38      18     8    12\n",
       "Crystal Palace          -0.263158     38      16    11    11\n",
       "Everton                 -0.368421     38      15    10    13\n",
       "Bournemouth             -0.421053     38      16    11    11\n",
       "Southampton             -0.500000     38      16    15     7\n",
       "Brighton                -0.526316     38      16    13     9\n",
       "Watford                 -0.526316     38      19     8    11\n",
       "West Ham                -0.526316     38      16    12    10\n",
       "West Brom               -0.657895     38      19    13     6\n",
       "Swansea                 -0.736842     38      21     9     8\n",
       "Huddersfield            -0.789474     38      19    10     9\n",
       "Stoke                   -0.868421     38      19    12     7"
      ]
     },
     "execution_count": 4,
     "metadata": {},
     "output_type": "execute_result"
    }
   ],
   "source": [
    "df_filtered = df[(df['Y'] == 17) & (df['Div'] == 'EPL')].copy()\n",
    "df_filtered['goal_diff'] = df_filtered['FTHG'] - df_filtered['FTAG']\n",
    "\n",
    "tmp = df_filtered[['goal_diff', 'HomeTeam']]\\\n",
    "    .rename({'HomeTeam':'team'}, axis=1).copy()\n",
    "tmp_2 = df_filtered[['goal_diff', 'AwayTeam']]\\\n",
    "    .rename({'AwayTeam':'team'}, axis=1).copy()\n",
    "\n",
    "tmp_2['goal_diff'] = tmp_2['goal_diff'] * -1\n",
    "\n",
    "games = pd.concat([tmp, tmp_2], axis=0)\n",
    "games['outcome'] = np.where(games['goal_diff'] > 0, 1,\n",
    "    np.where(games['goal_diff'] < 0, -1, games['goal_diff']))\n",
    "\n",
    "goaldiff = games.groupby('team')\\\n",
    "    .agg({'goal_diff':np.mean, \n",
    "          'outcome':'count'})\n",
    "\n",
    "outcomes = games.groupby(['team', 'outcome']).size().rename('count')\\\n",
    "    .reset_index()\\\n",
    "    .pivot(index='team', columns='outcome')\\\n",
    "    .droplevel(level=0, axis=1)\n",
    "\n",
    "teams = pd.concat([goaldiff, outcomes], axis=1)\\\n",
    "    .rename({'goal_diff':'Average Goal Diff',\n",
    "             'outcome':'Games',\n",
    "             -1: 'Losses', \n",
    "             0: 'Ties',\n",
    "             1: 'Wins'}, axis=1)\\\n",
    "    .sort_values('Average Goal Diff', ascending=False)\n",
    "teams"
   ]
  },
  {
   "cell_type": "code",
   "execution_count": 25,
   "id": "united-condition",
   "metadata": {},
   "outputs": [
    {
     "name": "stdout",
     "output_type": "stream",
     "text": [
      "\\begin{tabular}{lllrrrrrr}\n",
      "\\toprule\n",
      "{} &           team &         Div &  Average Goal Diff &  Games &  rank &  Losses &  Ties &  Wins \\\\\n",
      "\\midrule\n",
      "2  &  Bayern Munich &  Bundesliga &           1.882353 &     34 &   1.0 &       4 &     3 &    27 \\\\\n",
      "4  &     Hoffenheim &  Bundesliga &           0.529412 &     34 &   2.0 &       9 &    10 &    15 \\\\\n",
      "3  &       Dortmund &  Bundesliga &           0.500000 &     34 &   3.0 &       9 &    10 &    15 \\\\\n",
      "9  &       Man City &         EPL &           2.078947 &     38 &   1.0 &       2 &     4 &    32 \\\\\n",
      "7  &      Liverpool &         EPL &           1.210526 &     38 &   2.0 &       5 &    12 &    21 \\\\\n",
      "10 &     Man United &         EPL &           1.052632 &     38 &   3.0 &       7 &     6 &    25 \\\\\n",
      "1  &      Barcelona &     La\\_Liga &           1.842105 &     38 &   1.0 &       1 &     9 &    28 \\\\\n",
      "14 &    Real Madrid &     La\\_Liga &           1.315789 &     38 &   2.0 &       6 &    10 &    22 \\\\\n",
      "0  &     Ath Madrid &     La\\_Liga &           0.947368 &     38 &   3.0 &       5 &    10 &    23 \\\\\n",
      "13 &       Paris SG &     Ligue\\_1 &           2.078947 &     38 &   1.0 &       3 &     6 &    29 \\\\\n",
      "8  &           Lyon &     Ligue\\_1 &           1.157895 &     38 &   2.0 &       6 &     9 &    23 \\\\\n",
      "11 &         Monaco &     Ligue\\_1 &           1.052632 &     38 &   3.0 &       6 &     8 &    24 \\\\\n",
      "5  &       Juventus &     Serie\\_A &           1.631579 &     38 &   1.0 &       3 &     5 &    30 \\\\\n",
      "12 &         Napoli &     Serie\\_A &           1.263158 &     38 &   2.0 &       3 &     7 &    28 \\\\\n",
      "6  &          Lazio &     Serie\\_A &           1.052632 &     38 &   3.0 &       8 &     9 &    21 \\\\\n",
      "\\bottomrule\n",
      "\\end{tabular}\n",
      "\n"
     ]
    }
   ],
   "source": [
    "print(teams.to_latex())"
   ]
  },
  {
   "cell_type": "markdown",
   "id": "consolidated-shuttle",
   "metadata": {},
   "source": [
    "## 1b"
   ]
  },
  {
   "cell_type": "code",
   "execution_count": 27,
   "id": "hundred-stewart",
   "metadata": {},
   "outputs": [
    {
     "data": {
      "text/html": [
       "<div>\n",
       "<style scoped>\n",
       "    .dataframe tbody tr th:only-of-type {\n",
       "        vertical-align: middle;\n",
       "    }\n",
       "\n",
       "    .dataframe tbody tr th {\n",
       "        vertical-align: top;\n",
       "    }\n",
       "\n",
       "    .dataframe thead th {\n",
       "        text-align: right;\n",
       "    }\n",
       "</style>\n",
       "<table border=\"1\" class=\"dataframe\">\n",
       "  <thead>\n",
       "    <tr style=\"text-align: right;\">\n",
       "      <th></th>\n",
       "      <th>team</th>\n",
       "      <th>Div</th>\n",
       "      <th>Average Goal Diff</th>\n",
       "      <th>Games</th>\n",
       "      <th>rank</th>\n",
       "      <th>Losses</th>\n",
       "      <th>Ties</th>\n",
       "      <th>Wins</th>\n",
       "      <th>Points</th>\n",
       "    </tr>\n",
       "  </thead>\n",
       "  <tbody>\n",
       "    <tr>\n",
       "      <th>9</th>\n",
       "      <td>Man City</td>\n",
       "      <td>EPL</td>\n",
       "      <td>2.078947</td>\n",
       "      <td>38</td>\n",
       "      <td>1.0</td>\n",
       "      <td>2</td>\n",
       "      <td>4</td>\n",
       "      <td>32</td>\n",
       "      <td>100</td>\n",
       "    </tr>\n",
       "    <tr>\n",
       "      <th>5</th>\n",
       "      <td>Juventus</td>\n",
       "      <td>Serie_A</td>\n",
       "      <td>1.631579</td>\n",
       "      <td>38</td>\n",
       "      <td>1.0</td>\n",
       "      <td>3</td>\n",
       "      <td>5</td>\n",
       "      <td>30</td>\n",
       "      <td>95</td>\n",
       "    </tr>\n",
       "    <tr>\n",
       "      <th>1</th>\n",
       "      <td>Barcelona</td>\n",
       "      <td>La_Liga</td>\n",
       "      <td>1.842105</td>\n",
       "      <td>38</td>\n",
       "      <td>1.0</td>\n",
       "      <td>1</td>\n",
       "      <td>9</td>\n",
       "      <td>28</td>\n",
       "      <td>93</td>\n",
       "    </tr>\n",
       "    <tr>\n",
       "      <th>13</th>\n",
       "      <td>Paris SG</td>\n",
       "      <td>Ligue_1</td>\n",
       "      <td>2.078947</td>\n",
       "      <td>38</td>\n",
       "      <td>1.0</td>\n",
       "      <td>3</td>\n",
       "      <td>6</td>\n",
       "      <td>29</td>\n",
       "      <td>93</td>\n",
       "    </tr>\n",
       "    <tr>\n",
       "      <th>12</th>\n",
       "      <td>Napoli</td>\n",
       "      <td>Serie_A</td>\n",
       "      <td>1.263158</td>\n",
       "      <td>38</td>\n",
       "      <td>2.0</td>\n",
       "      <td>3</td>\n",
       "      <td>7</td>\n",
       "      <td>28</td>\n",
       "      <td>91</td>\n",
       "    </tr>\n",
       "    <tr>\n",
       "      <th>2</th>\n",
       "      <td>Bayern Munich</td>\n",
       "      <td>Bundesliga</td>\n",
       "      <td>1.882353</td>\n",
       "      <td>34</td>\n",
       "      <td>1.0</td>\n",
       "      <td>4</td>\n",
       "      <td>3</td>\n",
       "      <td>27</td>\n",
       "      <td>84</td>\n",
       "    </tr>\n",
       "    <tr>\n",
       "      <th>10</th>\n",
       "      <td>Man United</td>\n",
       "      <td>EPL</td>\n",
       "      <td>1.052632</td>\n",
       "      <td>38</td>\n",
       "      <td>3.0</td>\n",
       "      <td>7</td>\n",
       "      <td>6</td>\n",
       "      <td>25</td>\n",
       "      <td>81</td>\n",
       "    </tr>\n",
       "    <tr>\n",
       "      <th>11</th>\n",
       "      <td>Monaco</td>\n",
       "      <td>Ligue_1</td>\n",
       "      <td>1.052632</td>\n",
       "      <td>38</td>\n",
       "      <td>3.0</td>\n",
       "      <td>6</td>\n",
       "      <td>8</td>\n",
       "      <td>24</td>\n",
       "      <td>80</td>\n",
       "    </tr>\n",
       "    <tr>\n",
       "      <th>0</th>\n",
       "      <td>Ath Madrid</td>\n",
       "      <td>La_Liga</td>\n",
       "      <td>0.947368</td>\n",
       "      <td>38</td>\n",
       "      <td>3.0</td>\n",
       "      <td>5</td>\n",
       "      <td>10</td>\n",
       "      <td>23</td>\n",
       "      <td>79</td>\n",
       "    </tr>\n",
       "    <tr>\n",
       "      <th>8</th>\n",
       "      <td>Lyon</td>\n",
       "      <td>Ligue_1</td>\n",
       "      <td>1.157895</td>\n",
       "      <td>38</td>\n",
       "      <td>2.0</td>\n",
       "      <td>6</td>\n",
       "      <td>9</td>\n",
       "      <td>23</td>\n",
       "      <td>78</td>\n",
       "    </tr>\n",
       "    <tr>\n",
       "      <th>14</th>\n",
       "      <td>Real Madrid</td>\n",
       "      <td>La_Liga</td>\n",
       "      <td>1.315789</td>\n",
       "      <td>38</td>\n",
       "      <td>2.0</td>\n",
       "      <td>6</td>\n",
       "      <td>10</td>\n",
       "      <td>22</td>\n",
       "      <td>76</td>\n",
       "    </tr>\n",
       "    <tr>\n",
       "      <th>7</th>\n",
       "      <td>Liverpool</td>\n",
       "      <td>EPL</td>\n",
       "      <td>1.210526</td>\n",
       "      <td>38</td>\n",
       "      <td>2.0</td>\n",
       "      <td>5</td>\n",
       "      <td>12</td>\n",
       "      <td>21</td>\n",
       "      <td>75</td>\n",
       "    </tr>\n",
       "    <tr>\n",
       "      <th>6</th>\n",
       "      <td>Lazio</td>\n",
       "      <td>Serie_A</td>\n",
       "      <td>1.052632</td>\n",
       "      <td>38</td>\n",
       "      <td>3.0</td>\n",
       "      <td>8</td>\n",
       "      <td>9</td>\n",
       "      <td>21</td>\n",
       "      <td>72</td>\n",
       "    </tr>\n",
       "    <tr>\n",
       "      <th>4</th>\n",
       "      <td>Hoffenheim</td>\n",
       "      <td>Bundesliga</td>\n",
       "      <td>0.529412</td>\n",
       "      <td>34</td>\n",
       "      <td>2.0</td>\n",
       "      <td>9</td>\n",
       "      <td>10</td>\n",
       "      <td>15</td>\n",
       "      <td>55</td>\n",
       "    </tr>\n",
       "    <tr>\n",
       "      <th>3</th>\n",
       "      <td>Dortmund</td>\n",
       "      <td>Bundesliga</td>\n",
       "      <td>0.500000</td>\n",
       "      <td>34</td>\n",
       "      <td>3.0</td>\n",
       "      <td>9</td>\n",
       "      <td>10</td>\n",
       "      <td>15</td>\n",
       "      <td>55</td>\n",
       "    </tr>\n",
       "  </tbody>\n",
       "</table>\n",
       "</div>"
      ],
      "text/plain": [
       "             team         Div  Average Goal Diff  Games  rank  Losses  Ties  \\\n",
       "9        Man City         EPL           2.078947     38   1.0       2     4   \n",
       "5        Juventus     Serie_A           1.631579     38   1.0       3     5   \n",
       "1       Barcelona     La_Liga           1.842105     38   1.0       1     9   \n",
       "13       Paris SG     Ligue_1           2.078947     38   1.0       3     6   \n",
       "12         Napoli     Serie_A           1.263158     38   2.0       3     7   \n",
       "2   Bayern Munich  Bundesliga           1.882353     34   1.0       4     3   \n",
       "10     Man United         EPL           1.052632     38   3.0       7     6   \n",
       "11         Monaco     Ligue_1           1.052632     38   3.0       6     8   \n",
       "0      Ath Madrid     La_Liga           0.947368     38   3.0       5    10   \n",
       "8            Lyon     Ligue_1           1.157895     38   2.0       6     9   \n",
       "14    Real Madrid     La_Liga           1.315789     38   2.0       6    10   \n",
       "7       Liverpool         EPL           1.210526     38   2.0       5    12   \n",
       "6           Lazio     Serie_A           1.052632     38   3.0       8     9   \n",
       "4      Hoffenheim  Bundesliga           0.529412     34   2.0       9    10   \n",
       "3        Dortmund  Bundesliga           0.500000     34   3.0       9    10   \n",
       "\n",
       "    Wins  Points  \n",
       "9     32     100  \n",
       "5     30      95  \n",
       "1     28      93  \n",
       "13    29      93  \n",
       "12    28      91  \n",
       "2     27      84  \n",
       "10    25      81  \n",
       "11    24      80  \n",
       "0     23      79  \n",
       "8     23      78  \n",
       "14    22      76  \n",
       "7     21      75  \n",
       "6     21      72  \n",
       "4     15      55  \n",
       "3     15      55  "
      ]
     },
     "execution_count": 27,
     "metadata": {},
     "output_type": "execute_result"
    }
   ],
   "source": [
    "teams['Points'] = teams['Wins'] * 3 + teams['Ties'] * 1\n",
    "teams.sort_values('Points', ascending=False)"
   ]
  },
  {
   "cell_type": "code",
   "execution_count": 28,
   "id": "subsequent-convention",
   "metadata": {},
   "outputs": [
    {
     "name": "stdout",
     "output_type": "stream",
     "text": [
      "\\begin{tabular}{lllrrrrrrr}\n",
      "\\toprule\n",
      "{} &           team &         Div &  Average Goal Diff &  Games &  rank &  Losses &  Ties &  Wins &  Points \\\\\n",
      "\\midrule\n",
      "9  &       Man City &         EPL &           2.078947 &     38 &   1.0 &       2 &     4 &    32 &     100 \\\\\n",
      "5  &       Juventus &     Serie\\_A &           1.631579 &     38 &   1.0 &       3 &     5 &    30 &      95 \\\\\n",
      "1  &      Barcelona &     La\\_Liga &           1.842105 &     38 &   1.0 &       1 &     9 &    28 &      93 \\\\\n",
      "13 &       Paris SG &     Ligue\\_1 &           2.078947 &     38 &   1.0 &       3 &     6 &    29 &      93 \\\\\n",
      "12 &         Napoli &     Serie\\_A &           1.263158 &     38 &   2.0 &       3 &     7 &    28 &      91 \\\\\n",
      "2  &  Bayern Munich &  Bundesliga &           1.882353 &     34 &   1.0 &       4 &     3 &    27 &      84 \\\\\n",
      "10 &     Man United &         EPL &           1.052632 &     38 &   3.0 &       7 &     6 &    25 &      81 \\\\\n",
      "11 &         Monaco &     Ligue\\_1 &           1.052632 &     38 &   3.0 &       6 &     8 &    24 &      80 \\\\\n",
      "0  &     Ath Madrid &     La\\_Liga &           0.947368 &     38 &   3.0 &       5 &    10 &    23 &      79 \\\\\n",
      "8  &           Lyon &     Ligue\\_1 &           1.157895 &     38 &   2.0 &       6 &     9 &    23 &      78 \\\\\n",
      "14 &    Real Madrid &     La\\_Liga &           1.315789 &     38 &   2.0 &       6 &    10 &    22 &      76 \\\\\n",
      "7  &      Liverpool &         EPL &           1.210526 &     38 &   2.0 &       5 &    12 &    21 &      75 \\\\\n",
      "6  &          Lazio &     Serie\\_A &           1.052632 &     38 &   3.0 &       8 &     9 &    21 &      72 \\\\\n",
      "4  &     Hoffenheim &  Bundesliga &           0.529412 &     34 &   2.0 &       9 &    10 &    15 &      55 \\\\\n",
      "3  &       Dortmund &  Bundesliga &           0.500000 &     34 &   3.0 &       9 &    10 &    15 &      55 \\\\\n",
      "\\bottomrule\n",
      "\\end{tabular}\n",
      "\n"
     ]
    }
   ],
   "source": [
    "print(teams.sort_values('Points', ascending=False).to_latex())"
   ]
  },
  {
   "cell_type": "markdown",
   "id": "simplified-natural",
   "metadata": {},
   "source": [
    "## 1c"
   ]
  },
  {
   "cell_type": "code",
   "execution_count": 29,
   "id": "accomplished-founder",
   "metadata": {},
   "outputs": [],
   "source": [
    "df_filtered = df[(df['Y'] == 17)].copy()\n",
    "df_filtered['goal_diff'] = df_filtered['FTHG'] - df_filtered['FTAG']\n",
    "\n",
    "tmp = df_filtered[['goal_diff', 'HomeTeam', 'Div']]\\\n",
    "    .rename({'HomeTeam':'team'}, axis=1).copy()\n",
    "tmp_2 = df_filtered[['goal_diff', 'AwayTeam', 'Div']]\\\n",
    "    .rename({'AwayTeam':'team'}, axis=1).copy()\n",
    "\n",
    "tmp_2['goal_diff'] = tmp_2['goal_diff'] * -1\n",
    "\n",
    "games = pd.concat([tmp, tmp_2], axis=0)\n",
    "games['outcome'] = np.where(games['goal_diff'] > 0, 1,\n",
    "    np.where(games['goal_diff'] < 0, -1, games['goal_diff']))\n",
    "\n",
    "goaldiff = games.groupby(['team', 'Div'])\\\n",
    "    .agg({'goal_diff':np.mean, \n",
    "          'outcome':'count'})\\\n",
    "    .reset_index()\n",
    "\n",
    "goaldiff['rank'] = goaldiff\\\n",
    "    .groupby('Div')\\\n",
    "    ['goal_diff']\\\n",
    "    .rank(method='first', ascending=False)\n",
    "\n",
    "goaldiff = goaldiff[goaldiff['rank'] <= 3]\\\n",
    "    .set_index(['team', 'Div'])"
   ]
  },
  {
   "cell_type": "code",
   "execution_count": 30,
   "id": "found-bedroom",
   "metadata": {},
   "outputs": [],
   "source": [
    "outcomes = games.groupby(['team', 'Div', 'outcome'])\\\n",
    "    .size().rename('count')\\\n",
    "    .reset_index()\\\n",
    "    .pivot(index=['team', 'Div'], columns='outcome')\\\n",
    "    .droplevel(level=0, axis=1)"
   ]
  },
  {
   "cell_type": "code",
   "execution_count": 31,
   "id": "likely-summer",
   "metadata": {},
   "outputs": [
    {
     "data": {
      "text/html": [
       "<div>\n",
       "<style scoped>\n",
       "    .dataframe tbody tr th:only-of-type {\n",
       "        vertical-align: middle;\n",
       "    }\n",
       "\n",
       "    .dataframe tbody tr th {\n",
       "        vertical-align: top;\n",
       "    }\n",
       "\n",
       "    .dataframe thead th {\n",
       "        text-align: right;\n",
       "    }\n",
       "</style>\n",
       "<table border=\"1\" class=\"dataframe\">\n",
       "  <thead>\n",
       "    <tr style=\"text-align: right;\">\n",
       "      <th></th>\n",
       "      <th>team</th>\n",
       "      <th>Div</th>\n",
       "      <th>Average Goal Diff</th>\n",
       "      <th>Games</th>\n",
       "      <th>rank</th>\n",
       "      <th>Losses</th>\n",
       "      <th>Ties</th>\n",
       "      <th>Wins</th>\n",
       "    </tr>\n",
       "  </thead>\n",
       "  <tbody>\n",
       "    <tr>\n",
       "      <th>2</th>\n",
       "      <td>Bayern Munich</td>\n",
       "      <td>Bundesliga</td>\n",
       "      <td>1.882353</td>\n",
       "      <td>34</td>\n",
       "      <td>1.0</td>\n",
       "      <td>4</td>\n",
       "      <td>3</td>\n",
       "      <td>27</td>\n",
       "    </tr>\n",
       "    <tr>\n",
       "      <th>4</th>\n",
       "      <td>Hoffenheim</td>\n",
       "      <td>Bundesliga</td>\n",
       "      <td>0.529412</td>\n",
       "      <td>34</td>\n",
       "      <td>2.0</td>\n",
       "      <td>9</td>\n",
       "      <td>10</td>\n",
       "      <td>15</td>\n",
       "    </tr>\n",
       "    <tr>\n",
       "      <th>3</th>\n",
       "      <td>Dortmund</td>\n",
       "      <td>Bundesliga</td>\n",
       "      <td>0.500000</td>\n",
       "      <td>34</td>\n",
       "      <td>3.0</td>\n",
       "      <td>9</td>\n",
       "      <td>10</td>\n",
       "      <td>15</td>\n",
       "    </tr>\n",
       "    <tr>\n",
       "      <th>9</th>\n",
       "      <td>Man City</td>\n",
       "      <td>EPL</td>\n",
       "      <td>2.078947</td>\n",
       "      <td>38</td>\n",
       "      <td>1.0</td>\n",
       "      <td>2</td>\n",
       "      <td>4</td>\n",
       "      <td>32</td>\n",
       "    </tr>\n",
       "    <tr>\n",
       "      <th>7</th>\n",
       "      <td>Liverpool</td>\n",
       "      <td>EPL</td>\n",
       "      <td>1.210526</td>\n",
       "      <td>38</td>\n",
       "      <td>2.0</td>\n",
       "      <td>5</td>\n",
       "      <td>12</td>\n",
       "      <td>21</td>\n",
       "    </tr>\n",
       "    <tr>\n",
       "      <th>10</th>\n",
       "      <td>Man United</td>\n",
       "      <td>EPL</td>\n",
       "      <td>1.052632</td>\n",
       "      <td>38</td>\n",
       "      <td>3.0</td>\n",
       "      <td>7</td>\n",
       "      <td>6</td>\n",
       "      <td>25</td>\n",
       "    </tr>\n",
       "    <tr>\n",
       "      <th>1</th>\n",
       "      <td>Barcelona</td>\n",
       "      <td>La_Liga</td>\n",
       "      <td>1.842105</td>\n",
       "      <td>38</td>\n",
       "      <td>1.0</td>\n",
       "      <td>1</td>\n",
       "      <td>9</td>\n",
       "      <td>28</td>\n",
       "    </tr>\n",
       "    <tr>\n",
       "      <th>14</th>\n",
       "      <td>Real Madrid</td>\n",
       "      <td>La_Liga</td>\n",
       "      <td>1.315789</td>\n",
       "      <td>38</td>\n",
       "      <td>2.0</td>\n",
       "      <td>6</td>\n",
       "      <td>10</td>\n",
       "      <td>22</td>\n",
       "    </tr>\n",
       "    <tr>\n",
       "      <th>0</th>\n",
       "      <td>Ath Madrid</td>\n",
       "      <td>La_Liga</td>\n",
       "      <td>0.947368</td>\n",
       "      <td>38</td>\n",
       "      <td>3.0</td>\n",
       "      <td>5</td>\n",
       "      <td>10</td>\n",
       "      <td>23</td>\n",
       "    </tr>\n",
       "    <tr>\n",
       "      <th>13</th>\n",
       "      <td>Paris SG</td>\n",
       "      <td>Ligue_1</td>\n",
       "      <td>2.078947</td>\n",
       "      <td>38</td>\n",
       "      <td>1.0</td>\n",
       "      <td>3</td>\n",
       "      <td>6</td>\n",
       "      <td>29</td>\n",
       "    </tr>\n",
       "    <tr>\n",
       "      <th>8</th>\n",
       "      <td>Lyon</td>\n",
       "      <td>Ligue_1</td>\n",
       "      <td>1.157895</td>\n",
       "      <td>38</td>\n",
       "      <td>2.0</td>\n",
       "      <td>6</td>\n",
       "      <td>9</td>\n",
       "      <td>23</td>\n",
       "    </tr>\n",
       "    <tr>\n",
       "      <th>11</th>\n",
       "      <td>Monaco</td>\n",
       "      <td>Ligue_1</td>\n",
       "      <td>1.052632</td>\n",
       "      <td>38</td>\n",
       "      <td>3.0</td>\n",
       "      <td>6</td>\n",
       "      <td>8</td>\n",
       "      <td>24</td>\n",
       "    </tr>\n",
       "    <tr>\n",
       "      <th>5</th>\n",
       "      <td>Juventus</td>\n",
       "      <td>Serie_A</td>\n",
       "      <td>1.631579</td>\n",
       "      <td>38</td>\n",
       "      <td>1.0</td>\n",
       "      <td>3</td>\n",
       "      <td>5</td>\n",
       "      <td>30</td>\n",
       "    </tr>\n",
       "    <tr>\n",
       "      <th>12</th>\n",
       "      <td>Napoli</td>\n",
       "      <td>Serie_A</td>\n",
       "      <td>1.263158</td>\n",
       "      <td>38</td>\n",
       "      <td>2.0</td>\n",
       "      <td>3</td>\n",
       "      <td>7</td>\n",
       "      <td>28</td>\n",
       "    </tr>\n",
       "    <tr>\n",
       "      <th>6</th>\n",
       "      <td>Lazio</td>\n",
       "      <td>Serie_A</td>\n",
       "      <td>1.052632</td>\n",
       "      <td>38</td>\n",
       "      <td>3.0</td>\n",
       "      <td>8</td>\n",
       "      <td>9</td>\n",
       "      <td>21</td>\n",
       "    </tr>\n",
       "  </tbody>\n",
       "</table>\n",
       "</div>"
      ],
      "text/plain": [
       "             team         Div  Average Goal Diff  Games  rank  Losses  Ties  \\\n",
       "2   Bayern Munich  Bundesliga           1.882353     34   1.0       4     3   \n",
       "4      Hoffenheim  Bundesliga           0.529412     34   2.0       9    10   \n",
       "3        Dortmund  Bundesliga           0.500000     34   3.0       9    10   \n",
       "9        Man City         EPL           2.078947     38   1.0       2     4   \n",
       "7       Liverpool         EPL           1.210526     38   2.0       5    12   \n",
       "10     Man United         EPL           1.052632     38   3.0       7     6   \n",
       "1       Barcelona     La_Liga           1.842105     38   1.0       1     9   \n",
       "14    Real Madrid     La_Liga           1.315789     38   2.0       6    10   \n",
       "0      Ath Madrid     La_Liga           0.947368     38   3.0       5    10   \n",
       "13       Paris SG     Ligue_1           2.078947     38   1.0       3     6   \n",
       "8            Lyon     Ligue_1           1.157895     38   2.0       6     9   \n",
       "11         Monaco     Ligue_1           1.052632     38   3.0       6     8   \n",
       "5        Juventus     Serie_A           1.631579     38   1.0       3     5   \n",
       "12         Napoli     Serie_A           1.263158     38   2.0       3     7   \n",
       "6           Lazio     Serie_A           1.052632     38   3.0       8     9   \n",
       "\n",
       "    Wins  \n",
       "2     27  \n",
       "4     15  \n",
       "3     15  \n",
       "9     32  \n",
       "7     21  \n",
       "10    25  \n",
       "1     28  \n",
       "14    22  \n",
       "0     23  \n",
       "13    29  \n",
       "8     23  \n",
       "11    24  \n",
       "5     30  \n",
       "12    28  \n",
       "6     21  "
      ]
     },
     "execution_count": 31,
     "metadata": {},
     "output_type": "execute_result"
    }
   ],
   "source": [
    "teams = pd.merge(left=goaldiff, \n",
    "                 right=outcomes, \n",
    "                 how='inner',\n",
    "                 left_index=True,\n",
    "                 right_index=True)\\\n",
    "    .rename({'goal_diff':'Average Goal Diff',\n",
    "             'outcome':'Games',\n",
    "             -1: 'Losses', \n",
    "             0: 'Ties',\n",
    "             1: 'Wins'}, axis=1)\\\n",
    "    .reset_index()\\\n",
    "    .sort_values(by=['Div', 'Average Goal Diff'], \n",
    "                 ascending=[True, False])\n",
    "teams"
   ]
  },
  {
   "cell_type": "code",
   "execution_count": 32,
   "id": "focal-medium",
   "metadata": {},
   "outputs": [
    {
     "name": "stdout",
     "output_type": "stream",
     "text": [
      "\\begin{tabular}{lllrrrrrr}\n",
      "\\toprule\n",
      "{} &           team &         Div &  Average Goal Diff &  Games &  rank &  Losses &  Ties &  Wins \\\\\n",
      "\\midrule\n",
      "2  &  Bayern Munich &  Bundesliga &           1.882353 &     34 &   1.0 &       4 &     3 &    27 \\\\\n",
      "4  &     Hoffenheim &  Bundesliga &           0.529412 &     34 &   2.0 &       9 &    10 &    15 \\\\\n",
      "3  &       Dortmund &  Bundesliga &           0.500000 &     34 &   3.0 &       9 &    10 &    15 \\\\\n",
      "9  &       Man City &         EPL &           2.078947 &     38 &   1.0 &       2 &     4 &    32 \\\\\n",
      "7  &      Liverpool &         EPL &           1.210526 &     38 &   2.0 &       5 &    12 &    21 \\\\\n",
      "10 &     Man United &         EPL &           1.052632 &     38 &   3.0 &       7 &     6 &    25 \\\\\n",
      "1  &      Barcelona &     La\\_Liga &           1.842105 &     38 &   1.0 &       1 &     9 &    28 \\\\\n",
      "14 &    Real Madrid &     La\\_Liga &           1.315789 &     38 &   2.0 &       6 &    10 &    22 \\\\\n",
      "0  &     Ath Madrid &     La\\_Liga &           0.947368 &     38 &   3.0 &       5 &    10 &    23 \\\\\n",
      "13 &       Paris SG &     Ligue\\_1 &           2.078947 &     38 &   1.0 &       3 &     6 &    29 \\\\\n",
      "8  &           Lyon &     Ligue\\_1 &           1.157895 &     38 &   2.0 &       6 &     9 &    23 \\\\\n",
      "11 &         Monaco &     Ligue\\_1 &           1.052632 &     38 &   3.0 &       6 &     8 &    24 \\\\\n",
      "5  &       Juventus &     Serie\\_A &           1.631579 &     38 &   1.0 &       3 &     5 &    30 \\\\\n",
      "12 &         Napoli &     Serie\\_A &           1.263158 &     38 &   2.0 &       3 &     7 &    28 \\\\\n",
      "6  &          Lazio &     Serie\\_A &           1.052632 &     38 &   3.0 &       8 &     9 &    21 \\\\\n",
      "\\bottomrule\n",
      "\\end{tabular}\n",
      "\n"
     ]
    }
   ],
   "source": [
    "print(teams.to_latex())"
   ]
  },
  {
   "cell_type": "markdown",
   "id": "respiratory-strength",
   "metadata": {},
   "source": [
    "# Problem 2\n",
    "\n",
    "## 2a\n",
    "I can model the total number of goals using a Poisson distribution. The Poisson distribution assumes that each goal is scored independently of each other, which is a roughly true statement since people go back to the middle of the court after each goal. It assumes a single goal's scoring time follows an exponential distribution, so most goals happen quickly, which might not be a great assumption since there is a minimum time to score a goal usually.\n",
    "\n",
    "If we do not use any covariates such as the year or the team, and we only have one Poisson model for the entire dataset, then the MLE estimate of the Poisson coefficient $\\lambda$ is the mean of the total goals scores per game."
   ]
  },
  {
   "cell_type": "code",
   "execution_count": 9,
   "id": "structured-chrome",
   "metadata": {},
   "outputs": [
    {
     "data": {
      "text/plain": [
       "2.710158817086528"
      ]
     },
     "execution_count": 9,
     "metadata": {},
     "output_type": "execute_result"
    }
   ],
   "source": [
    "df['Total Goals'] = df['FTHG'] + df['FTAG']\n",
    "coef = df['Total Goals'].mean()\n",
    "coef"
   ]
  },
  {
   "cell_type": "markdown",
   "id": "literary-guarantee",
   "metadata": {},
   "source": [
    "A graph of a Poisson distribution is overlayed onto a histogram of total wins per game. Shockingly (to me), they are almost exactly the same!"
   ]
  },
  {
   "cell_type": "code",
   "execution_count": 10,
   "id": "seeing-franchise",
   "metadata": {},
   "outputs": [],
   "source": [
    "import matplotlib.pyplot as plt\n",
    "%matplotlib inline"
   ]
  },
  {
   "cell_type": "code",
   "execution_count": 11,
   "id": "environmental-silver",
   "metadata": {},
   "outputs": [],
   "source": [
    "import scipy.stats as stats"
   ]
  },
  {
   "cell_type": "code",
   "execution_count": 12,
   "id": "beneficial-range",
   "metadata": {},
   "outputs": [],
   "source": [
    "pmf = stats.poisson.pmf(np.arange(0, 13), mu=coef)"
   ]
  },
  {
   "cell_type": "code",
   "execution_count": 13,
   "id": "pressing-natural",
   "metadata": {},
   "outputs": [
    {
     "data": {
      "text/plain": [
       "<matplotlib.legend.Legend at 0x142093310>"
      ]
     },
     "execution_count": 13,
     "metadata": {},
     "output_type": "execute_result"
    },
    {
     "data": {
      "image/png": "[encoded data removed]",
      "text/plain": [
       "<Figure size 432x288 with 1 Axes>"
      ]
     },
     "metadata": {
      "needs_background": "light"
     },
     "output_type": "display_data"
    }
   ],
   "source": [
    "plt.plot(df['Total Goals'].value_counts(normalize=True).sort_index(),\n",
    "         label='Histogram')\n",
    "plt.plot(pmf, label='Poisson PMF')\n",
    "plt.legend()"
   ]
  },
  {
   "cell_type": "markdown",
   "id": "determined-opening",
   "metadata": {},
   "source": [
    "## 2b"
   ]
  },
  {
   "cell_type": "code",
   "execution_count": 14,
   "id": "medical-jerusalem",
   "metadata": {},
   "outputs": [
    {
     "data": {
      "text/plain": [
       "1.1907174151150055"
      ]
     },
     "execution_count": 14,
     "metadata": {},
     "output_type": "execute_result"
    }
   ],
   "source": [
    "df['First Half Goals'] = df['HTHG'] + df['HTAG']\n",
    "coef = df['First Half Goals'].mean()\n",
    "coef"
   ]
  },
  {
   "cell_type": "code",
   "execution_count": 15,
   "id": "attractive-placement",
   "metadata": {},
   "outputs": [
    {
     "data": {
      "text/plain": [
       "<matplotlib.legend.Legend at 0x1421fd4f0>"
      ]
     },
     "execution_count": 15,
     "metadata": {},
     "output_type": "execute_result"
    },
    {
     "data": {
      "image/png": "[encoded data removed]",
      "text/plain": [
       "<Figure size 432x288 with 1 Axes>"
      ]
     },
     "metadata": {
      "needs_background": "light"
     },
     "output_type": "display_data"
    }
   ],
   "source": [
    "pmf = stats.poisson.pmf(np.arange(0, 13), mu=coef)\n",
    "plt.plot(df['First Half Goals'].value_counts(normalize=True).sort_index(),\n",
    "         label='Histogram')\n",
    "plt.plot(pmf, label='Poisson PMF')\n",
    "plt.legend()"
   ]
  },
  {
   "cell_type": "markdown",
   "id": "adaptive-pipeline",
   "metadata": {},
   "source": [
    "## 2c\n",
    "Interestingly, the Poisson parameter for the second half of the game is larger than the Poisson parameter for the first half of games. This means that more goals are made in the second half than the first half, which is a violation of the assumptions of the Poisson distribution (even though the distribution fits well anyways)."
   ]
  },
  {
   "cell_type": "code",
   "execution_count": 16,
   "id": "tracked-action",
   "metadata": {},
   "outputs": [
    {
     "data": {
      "text/plain": [
       "1.5194414019715226"
      ]
     },
     "execution_count": 16,
     "metadata": {},
     "output_type": "execute_result"
    }
   ],
   "source": [
    "df['Second Half Goals'] = df['FTHG'] + df['FTAG'] - df['HTHG'] - df['HTAG']\n",
    "coef = df['Second Half Goals'].mean()\n",
    "coef"
   ]
  },
  {
   "cell_type": "code",
   "execution_count": 17,
   "id": "gross-defeat",
   "metadata": {},
   "outputs": [
    {
     "data": {
      "text/plain": [
       "<matplotlib.legend.Legend at 0x142273e80>"
      ]
     },
     "execution_count": 17,
     "metadata": {},
     "output_type": "execute_result"
    },
    {
     "data": {
      "image/png": "[encoded data removed]",
      "text/plain": [
       "<Figure size 432x288 with 1 Axes>"
      ]
     },
     "metadata": {
      "needs_background": "light"
     },
     "output_type": "display_data"
    }
   ],
   "source": [
    "pmf = stats.poisson.pmf(np.arange(0, 13), mu=coef)\n",
    "plt.plot(df['First Half Goals'].value_counts(normalize=True).sort_index(),\n",
    "         label='Histogram')\n",
    "plt.plot(pmf, label='Poisson PMF')\n",
    "plt.legend()"
   ]
  },
  {
   "cell_type": "markdown",
   "id": "hindu-production",
   "metadata": {},
   "source": [
    "## 2d"
   ]
  },
  {
   "cell_type": "code",
   "execution_count": 18,
   "id": "dynamic-venue",
   "metadata": {},
   "outputs": [
    {
     "data": {
      "text/html": [
       "<div>\n",
       "<style scoped>\n",
       "    .dataframe tbody tr th:only-of-type {\n",
       "        vertical-align: middle;\n",
       "    }\n",
       "\n",
       "    .dataframe tbody tr th {\n",
       "        vertical-align: top;\n",
       "    }\n",
       "\n",
       "    .dataframe thead th {\n",
       "        text-align: right;\n",
       "    }\n",
       "</style>\n",
       "<table border=\"1\" class=\"dataframe\">\n",
       "  <thead>\n",
       "    <tr style=\"text-align: right;\">\n",
       "      <th></th>\n",
       "      <th>mean</th>\n",
       "      <th>count</th>\n",
       "    </tr>\n",
       "    <tr>\n",
       "      <th>Div</th>\n",
       "      <th></th>\n",
       "      <th></th>\n",
       "    </tr>\n",
       "  </thead>\n",
       "  <tbody>\n",
       "    <tr>\n",
       "      <th>Bundesliga</th>\n",
       "      <td>2.811275</td>\n",
       "      <td>1224</td>\n",
       "    </tr>\n",
       "    <tr>\n",
       "      <th>La_Liga</th>\n",
       "      <td>2.759211</td>\n",
       "      <td>1520</td>\n",
       "    </tr>\n",
       "    <tr>\n",
       "      <th>Serie_A</th>\n",
       "      <td>2.725658</td>\n",
       "      <td>1520</td>\n",
       "    </tr>\n",
       "    <tr>\n",
       "      <th>EPL</th>\n",
       "      <td>2.686184</td>\n",
       "      <td>1520</td>\n",
       "    </tr>\n",
       "    <tr>\n",
       "      <th>Ligue_1</th>\n",
       "      <td>2.588158</td>\n",
       "      <td>1520</td>\n",
       "    </tr>\n",
       "  </tbody>\n",
       "</table>\n",
       "</div>"
      ],
      "text/plain": [
       "                mean  count\n",
       "Div                        \n",
       "Bundesliga  2.811275   1224\n",
       "La_Liga     2.759211   1520\n",
       "Serie_A     2.725658   1520\n",
       "EPL         2.686184   1520\n",
       "Ligue_1     2.588158   1520"
      ]
     },
     "execution_count": 18,
     "metadata": {},
     "output_type": "execute_result"
    }
   ],
   "source": [
    "df.groupby('Div')\\\n",
    "    ['Total Goals']\\\n",
    "    .agg(['mean', 'count'])\\\n",
    "    .sort_values('mean', ascending=False)"
   ]
  },
  {
   "cell_type": "markdown",
   "id": "weekly-graduation",
   "metadata": {},
   "source": [
    "## 2e\n",
    "To determine whether there is evidence of comeback tendency, we use a difference in proportions test between the proportion of draws we see vs. the proportion of draws the betting markets expected to see. Fix our p-value threshold to be $0.05$.\n",
    "\n",
    "When looking at games with 4 goals scored, the possible goals distribution is 0-4, 1-3, 2-2, 3-1, and 4-0. Because the betting markets assign these games a win probability close to 0.5, that indicates that the expected probability for a goal to go to either team is 0.5 - a tossup. \n",
    "\n",
    "Under this scenario and assuming the goals scored are independently distributed within a game, we can calculate the number of draws we expect to see. In actuality, of the 37 games in the dataset, 19 of them (51.35%) have tied. By the Binomial Theorem, this would be ${4 \\choose 2} \\dfrac{1}{2}^4 = 0.375$, so in expectation, we should see around 37.5% of the 4-goal games to be draws. The standard error of our estimate is given by $\\sqrt{p(1-p)(\\frac{1}{n})} = \\sqrt{37 * 0.375 * (1 - 0.375)} \\approx 2.94$.\n",
    "\n",
    "We derive the z-score by seeing the number of standard errors our empirical mean is from the theoretical expectation: $\\dfrac{\\frac{19}{37} - .375}{\\sqrt{0.375 * (1 - .375) / 37}} = 1.74$. \n",
    "\n",
    "The p-value associated with this z-score is 0.04, which is less than our threshold of 0.05. Thus, we reject the null hypothesis and argue that there is evidence of comeback tendency. "
   ]
  },
  {
   "cell_type": "code",
   "execution_count": 19,
   "id": "structural-address",
   "metadata": {},
   "outputs": [
    {
     "data": {
      "text/plain": [
       "FTHG  FTAG\n",
       "0     4        1\n",
       "1     3        9\n",
       "2     2       19\n",
       "3     1        6\n",
       "4     0        2\n",
       "dtype: int64"
      ]
     },
     "execution_count": 19,
     "metadata": {},
     "output_type": "execute_result"
    }
   ],
   "source": [
    "close_games = df[(df['Total Goals'] == 4) \n",
    "                 & (np.abs(df['pH'] - df['pA']) <= 0.02)]\n",
    "close_games.groupby(['FTHG', 'FTAG']).size()"
   ]
  },
  {
   "cell_type": "code",
   "execution_count": 20,
   "id": "requested-contents",
   "metadata": {},
   "outputs": [
    {
     "data": {
      "text/plain": [
       "0.1385135135135135"
      ]
     },
     "execution_count": 20,
     "metadata": {},
     "output_type": "execute_result"
    }
   ],
   "source": [
    "difference_in_proportions = (19 / 37) - 0.375\n",
    "difference_in_proportions"
   ]
  },
  {
   "cell_type": "code",
   "execution_count": 21,
   "id": "dimensional-statistics",
   "metadata": {},
   "outputs": [
    {
     "data": {
      "text/plain": [
       "0.07958931749587667"
      ]
     },
     "execution_count": 21,
     "metadata": {},
     "output_type": "execute_result"
    }
   ],
   "source": [
    "standard_deviation = np.sqrt(0.375 * (1 - 0.375) / 37)\n",
    "standard_deviation"
   ]
  },
  {
   "cell_type": "code",
   "execution_count": 22,
   "id": "explicit-independence",
   "metadata": {},
   "outputs": [
    {
     "data": {
      "text/plain": [
       "1.740353075909836"
      ]
     },
     "execution_count": 22,
     "metadata": {},
     "output_type": "execute_result"
    }
   ],
   "source": [
    "z_score = difference_in_proportions / standard_deviation\n",
    "z_score"
   ]
  },
  {
   "cell_type": "code",
   "execution_count": 23,
   "id": "athletic-buyer",
   "metadata": {},
   "outputs": [
    {
     "data": {
      "text/plain": [
       "0.040929508978807316"
      ]
     },
     "execution_count": 23,
     "metadata": {},
     "output_type": "execute_result"
    }
   ],
   "source": [
    "p_value = 1 - scipy.stats.norm().cdf(1.74)\n",
    "p_value"
   ]
  },
  {
   "cell_type": "code",
   "execution_count": null,
   "id": "gross-deadline",
   "metadata": {},
   "outputs": [],
   "source": []
  }
 ],
 "metadata": {
  "kernelspec": {
   "display_name": "Python 3",
   "language": "python",
   "name": "python3"
  },
  "language_info": {
   "codemirror_mode": {
    "name": "ipython",
    "version": 3
   },
   "file_extension": ".py",
   "mimetype": "text/x-python",
   "name": "python",
   "nbconvert_exporter": "python",
   "pygments_lexer": "ipython3",
   "version": "3.8.2"
  }
 },
 "nbformat": 4,
 "nbformat_minor": 5
}
